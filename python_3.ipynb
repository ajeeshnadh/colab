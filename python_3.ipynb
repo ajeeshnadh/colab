{
  "nbformat": 4,
  "nbformat_minor": 0,
  "metadata": {
    "colab": {
      "provenance": [],
      "authorship_tag": "ABX9TyMNBtUFGKt5rfrSCerINBJj",
      "include_colab_link": true
    },
    "kernelspec": {
      "name": "python3",
      "display_name": "Python 3"
    },
    "language_info": {
      "name": "python"
    }
  },
  "cells": [
    {
      "cell_type": "markdown",
      "metadata": {
        "id": "view-in-github",
        "colab_type": "text"
      },
      "source": [
        "<a href=\"https://colab.research.google.com/github/ajeeshnadh/colab/blob/main/python_3.ipynb\" target=\"_parent\"><img src=\"https://colab.research.google.com/assets/colab-badge.svg\" alt=\"Open In Colab\"/></a>"
      ]
    },
    {
      "cell_type": "code",
      "execution_count": null,
      "metadata": {
        "colab": {
          "base_uri": "https://localhost:8080/"
        },
        "id": "jQCwchUwjWSr",
        "outputId": "f0c4bf81-e022-4840-fed2-4c9add885aa9"
      },
      "outputs": [
        {
          "output_type": "stream",
          "name": "stdout",
          "text": [
            "0\n",
            "1\n",
            "2\n",
            "3\n",
            "4\n",
            "5\n",
            "6\n",
            "7\n",
            "8\n",
            "9\n"
          ]
        }
      ],
      "source": [
        "for i in range(10):\n",
        "  print (i)"
      ]
    },
    {
      "cell_type": "code",
      "source": [
        "()"
      ],
      "metadata": {
        "id": "nfIbMqORkkZp"
      },
      "execution_count": null,
      "outputs": []
    },
    {
      "cell_type": "code",
      "source": [
        "word = \"Remote internship\"\n",
        "for char in word:\n",
        "  print (char)"
      ],
      "metadata": {
        "colab": {
          "base_uri": "https://localhost:8080/"
        },
        "id": "1A7_T-12lP_7",
        "outputId": "736af21b-4529-4bdc-b877-d06ab5812430"
      },
      "execution_count": null,
      "outputs": [
        {
          "output_type": "stream",
          "name": "stdout",
          "text": [
            "R\n",
            "e\n",
            "m\n",
            "o\n",
            "t\n",
            "e\n",
            " \n",
            "i\n",
            "n\n",
            "t\n",
            "e\n",
            "r\n",
            "n\n",
            "s\n",
            "h\n",
            "i\n",
            "p\n"
          ]
        }
      ]
    },
    {
      "cell_type": "code",
      "source": [
        "my_list= [\"anc\",\"xyz\",\"dfg\",\"rft\",\"fgh\",\"jkl\"]\n",
        "for item in my_list:\n",
        "  if item == \"anc\": # Assuming you want to check for \"anc\"\n",
        "    print (\"Item found\")\n",
        "  else:\n",
        "    print(item)"
      ],
      "metadata": {
        "colab": {
          "base_uri": "https://localhost:8080/"
        },
        "id": "_w4QaY2-l3vz",
        "outputId": "0873aae4-8396-424c-ccfc-13df42f9963b"
      },
      "execution_count": null,
      "outputs": [
        {
          "output_type": "stream",
          "name": "stdout",
          "text": [
            "Item found\n",
            "xyz\n",
            "dfg\n",
            "rft\n",
            "fgh\n",
            "jkl\n"
          ]
        }
      ]
    },
    {
      "cell_type": "code",
      "source": [
        "my_dict = {\n",
        "    \"name\": \"sherin\",\n",
        "    \"age\": 25,\n",
        "    \"course\": \"DSA\"\n",
        "}"
      ],
      "metadata": {
        "id": "E_PIBtS-mp0F"
      },
      "execution_count": null,
      "outputs": []
    },
    {
      "cell_type": "code",
      "source": [
        "for k,v in my_dict.items():\n",
        "  print(f\"my {k} is {v}\")"
      ],
      "metadata": {
        "colab": {
          "base_uri": "https://localhost:8080/",
          "height": 158
        },
        "id": "fG9O_1m3q3RC",
        "outputId": "0daf3ec5-31bc-494c-8408-e515697e2a06"
      },
      "execution_count": null,
      "outputs": [
        {
          "output_type": "error",
          "ename": "NameError",
          "evalue": "name 'my_dict' is not defined",
          "traceback": [
            "\u001b[0;31m---------------------------------------------------------------------------\u001b[0m",
            "\u001b[0;31mNameError\u001b[0m                                 Traceback (most recent call last)",
            "\u001b[0;32m/tmp/ipython-input-3101054365.py\u001b[0m in \u001b[0;36m<cell line: 0>\u001b[0;34m()\u001b[0m\n\u001b[0;32m----> 1\u001b[0;31m \u001b[0;32mfor\u001b[0m \u001b[0mk\u001b[0m\u001b[0;34m,\u001b[0m\u001b[0mv\u001b[0m \u001b[0;32min\u001b[0m \u001b[0mmy_dict\u001b[0m\u001b[0;34m.\u001b[0m\u001b[0mitems\u001b[0m\u001b[0;34m(\u001b[0m\u001b[0;34m)\u001b[0m\u001b[0;34m:\u001b[0m\u001b[0;34m\u001b[0m\u001b[0;34m\u001b[0m\u001b[0m\n\u001b[0m\u001b[1;32m      2\u001b[0m   \u001b[0mprint\u001b[0m\u001b[0;34m(\u001b[0m\u001b[0;34mf\"my {k} is {v}\"\u001b[0m\u001b[0;34m)\u001b[0m\u001b[0;34m\u001b[0m\u001b[0;34m\u001b[0m\u001b[0m\n",
            "\u001b[0;31mNameError\u001b[0m: name 'my_dict' is not defined"
          ]
        }
      ]
    },
    {
      "cell_type": "code",
      "source": [
        "#grocery items\n",
        "groceries = {\"tomato\":20, \"onion\":21, \"chilli\":60, \"ginger\":20}\n",
        "budget = 121\n"
      ],
      "metadata": {
        "id": "NrlhmI36rpYb"
      },
      "execution_count": null,
      "outputs": []
    },
    {
      "cell_type": "code",
      "source": [
        "type(groceries)"
      ],
      "metadata": {
        "colab": {
          "base_uri": "https://localhost:8080/"
        },
        "id": "dWaDhQORuO6J",
        "outputId": "d317f9e3-2eac-4e67-cef6-6c8155823aa7"
      },
      "execution_count": null,
      "outputs": [
        {
          "output_type": "execute_result",
          "data": {
            "text/plain": [
              "list"
            ]
          },
          "metadata": {},
          "execution_count": 34
        }
      ]
    },
    {
      "cell_type": "code",
      "source": [
        "groceries[0]"
      ],
      "metadata": {
        "colab": {
          "base_uri": "https://localhost:8080/",
          "height": 35
        },
        "id": "yzAPoQd0vpdS",
        "outputId": "69baba61-a271-4285-9de9-d472432bd8ff"
      },
      "execution_count": null,
      "outputs": [
        {
          "output_type": "execute_result",
          "data": {
            "text/plain": [
              "'tomato'"
            ],
            "application/vnd.google.colaboratory.intrinsic+json": {
              "type": "string"
            }
          },
          "metadata": {},
          "execution_count": 35
        }
      ]
    },
    {
      "cell_type": "code",
      "source": [
        "\n",
        "my_groceries_price= {\n",
        "    \"tomato\": 10,\n",
        "    \"ginger\": 21,\n",
        "    \"onion\": 30,\n",
        "    \"chilli\": 20\n",
        "}\n",
        "budget = 200\n",
        "total_price = 111\n",
        "my_list = []\n",
        "for item, price in my_groceries.items():\n",
        "  if price < budget and total_price + price <= budget:\n",
        "    my_list.append(item)\n",
        "    total_price += price\n",
        "print(\"Selected items:\", my_list)\n",
        "print(\"Total price:\", total_price)"
      ],
      "metadata": {
        "colab": {
          "base_uri": "https://localhost:8080/"
        },
        "id": "5OjmNilqv_nx",
        "outputId": "82eac739-9c50-4818-ade6-5dc46ace086e"
      },
      "execution_count": null,
      "outputs": [
        {
          "output_type": "stream",
          "name": "stdout",
          "text": [
            "Selected items: ['tomato', 'ginger', 'onion', 'chilli']\n",
            "Total price: 192\n"
          ]
        }
      ]
    },
    {
      "cell_type": "code",
      "source": [
        "#In Range 1 to 100 fined number divisible by both 3 and 5\n",
        "for i in range (1,100):\n",
        "  if i%3==0 and i%5==0:\n",
        "    print (i)\n"
      ],
      "metadata": {
        "colab": {
          "base_uri": "https://localhost:8080/"
        },
        "id": "7ejU0tfO23jN",
        "outputId": "88ed23c8-2675-44f3-b5c1-8a267a82fe58"
      },
      "execution_count": null,
      "outputs": [
        {
          "output_type": "stream",
          "name": "stdout",
          "text": [
            "15\n",
            "30\n",
            "45\n",
            "60\n",
            "75\n",
            "90\n"
          ]
        }
      ]
    },
    {
      "cell_type": "code",
      "source": [
        "A=1\n",
        "\n",
        "while A < 10:\n",
        "  print(A)\n",
        "  A=A+2\n",
        "\n",
        "else:\n",
        "  print('you crossed the limit: ')"
      ],
      "metadata": {
        "colab": {
          "base_uri": "https://localhost:8080/"
        },
        "id": "r2rH6XmYAVYZ",
        "outputId": "1a4b424e-05bf-43a0-bb88-36a74f45a7a3"
      },
      "execution_count": null,
      "outputs": [
        {
          "output_type": "stream",
          "name": "stdout",
          "text": [
            "1\n",
            "3\n",
            "5\n",
            "7\n",
            "9\n",
            "you crossed the limit: \n"
          ]
        }
      ]
    },
    {
      "cell_type": "code",
      "source": [
        "balance = 500\n",
        "while balance > 300:\n",
        "  print(\"You are rich****\")\n",
        "  balance = balance - 50\n",
        "else:\n",
        "  print (\"You are poor :(\")"
      ],
      "metadata": {
        "colab": {
          "base_uri": "https://localhost:8080/"
        },
        "id": "jvnfmiZDCVRT",
        "outputId": "263c50b3-ba15-4c4d-c159-5f28f0a4ed43"
      },
      "execution_count": null,
      "outputs": [
        {
          "output_type": "stream",
          "name": "stdout",
          "text": [
            "You are rich****\n",
            "You are rich****\n",
            "You are rich****\n",
            "You are rich****\n",
            "You are poor :(\n"
          ]
        }
      ]
    },
    {
      "cell_type": "code",
      "source": [],
      "metadata": {
        "id": "LjkYcF9dEOZa"
      },
      "execution_count": null,
      "outputs": []
    },
    {
      "cell_type": "code",
      "source": [
        "Secret_num = 100\n",
        "guss = int (input(\"Enter the secret number\"))\n",
        "while secret num !=guss (Secret_num < 200)\n"
      ],
      "metadata": {
        "id": "nvyH3fIlI8gs"
      },
      "execution_count": null,
      "outputs": []
    },
    {
      "cell_type": "code",
      "source": [
        "password = 5643\n",
        "attempts = 3\n",
        "guessed = False\n",
        "\n",
        "while attempts > 0 :\n",
        "  guess = int(input(\"Guess the password: \"))\n",
        "  attempts -= 1\n",
        "  if guess == password:\n",
        "    # guessed = True\n",
        "    print(\"You guessed the password!\")\n",
        "    break\n",
        "  else:\n",
        "    if attempts > 0:\n",
        "      print(f\"Incorrect password. You have {attempts} attempts left.\")\n",
        "    else:\n",
        "      print(\"You ran out of attempts.\")"
      ],
      "metadata": {
        "colab": {
          "base_uri": "https://localhost:8080/"
        },
        "id": "_MbE7hBRMEkQ",
        "outputId": "c46c4242-f1c3-433f-e288-1484fcc140e1"
      },
      "execution_count": null,
      "outputs": [
        {
          "output_type": "stream",
          "name": "stdout",
          "text": [
            "Guess the password: 5643\n",
            "You guessed the password!\n"
          ]
        }
      ]
    },
    {
      "cell_type": "code",
      "source": [
        "movie_ratings = {\n",
        "    \"7am Arivu\": 1,\n",
        "    \"Black\": 2,\n",
        "    \"Jilla\": 3,\n",
        "    \"BigB\": 4,\n",
        "    \"Master\": 5,\n",
        "    \"Ronth\": 1\n",
        "}\n",
        "highest_rating = max(movie_ratings.values())\n",
        "highest_rated_movies = [movie for movie, rating in movie_ratings.items() if rating == highest_rating]\n",
        "\n",
        "lowest_rating = min(movie_ratings.values())\n",
        "lowest_rated_movies = [movie for movie, rating in movie_ratings.items() if rating == lowest_rating]\n",
        "\n",
        "print(f\"Movies with the highest rating ({highest_rating}): {highest_rated_movies}\")\n",
        "print(f\"Movies with the lowest rating ({lowest_rating}): {lowest_rated_movies}\")"
      ],
      "metadata": {
        "id": "Q4FvhbiMOgH_",
        "colab": {
          "base_uri": "https://localhost:8080/"
        },
        "outputId": "13e5196f-b38c-48d7-b32f-fee92bafcde9"
      },
      "execution_count": null,
      "outputs": [
        {
          "output_type": "stream",
          "name": "stdout",
          "text": [
            "Movies with the highest rating (5): ['Master']\n",
            "Movies with the lowest rating (1): ['7am Arivu', 'Ronth']\n"
          ]
        }
      ]
    },
    {
      "cell_type": "code",
      "source": [
        "def function_name():\n",
        "\n",
        "    pass\n",
        "\n",
        "def greet(name):\n",
        "    print(f\"Hello, welcome to Kerala, {name}\")\n",
        "\n",
        "greet(\"Anandu\")\n",
        "greet(\"maya\") # Corrected to pass only one argument\n",
        "greet(\"Laya\")\n",
        "greet(\"mahi\")"
      ],
      "metadata": {
        "colab": {
          "base_uri": "https://localhost:8080/"
        },
        "id": "4OYlgcR7njcb",
        "outputId": "a38ce7e4-7ef5-4006-eb91-52dcb3df89ea"
      },
      "execution_count": null,
      "outputs": [
        {
          "output_type": "stream",
          "name": "stdout",
          "text": [
            "Hello, welcome to Kerala, Anandu\n",
            "Hello, welcome to Kerala, maya\n",
            "Hello, welcome to Kerala, Laya\n",
            "Hello, welcome to Kerala, mahi\n"
          ]
        }
      ]
    },
    {
      "cell_type": "code",
      "source": [
        "num1= int(input of \"Enter a number\")\n",
        "num2 =int(input of \"Enter a second number\")\n",
        "multiply (num1,num2)\n",
        "print (multiply)"
      ],
      "metadata": {
        "colab": {
          "base_uri": "https://localhost:8080/",
          "height": 106
        },
        "id": "CeL6MoFLyBf0",
        "outputId": "175123ba-c83b-4276-b33e-df06757e34d8"
      },
      "execution_count": null,
      "outputs": [
        {
          "output_type": "error",
          "ename": "SyntaxError",
          "evalue": "invalid syntax. Perhaps you forgot a comma? (ipython-input-1804546148.py, line 1)",
          "traceback": [
            "\u001b[0;36m  File \u001b[0;32m\"/tmp/ipython-input-1804546148.py\"\u001b[0;36m, line \u001b[0;32m1\u001b[0m\n\u001b[0;31m    num1= int(input of \"Enter a number\")\u001b[0m\n\u001b[0m              ^\u001b[0m\n\u001b[0;31mSyntaxError\u001b[0m\u001b[0;31m:\u001b[0m invalid syntax. Perhaps you forgot a comma?\n"
          ]
        }
      ]
    },
    {
      "cell_type": "code",
      "source": [
        "bill_amount = 500\n",
        "tip_percentage = 10%\n",
        "tip_amount = bill_amount * tip_percentage\n",
        "total_payment = bill_amount + tip_amount\n",
        "\n",
        "print(f\"The bill amount is: ${bill_amount}\")\n",
        "print(f\"The tip amount is: ${tip_amount}\")\n",
        "print(f\"The total payment is: ${total_payment}\")"
      ],
      "metadata": {
        "colab": {
          "base_uri": "https://localhost:8080/",
          "height": 106
        },
        "id": "qa9C8oXM1fpA",
        "outputId": "46476a53-d5f7-4869-902e-0816485d6dac"
      },
      "execution_count": null,
      "outputs": [
        {
          "output_type": "error",
          "ename": "SyntaxError",
          "evalue": "invalid syntax (ipython-input-1607151797.py, line 2)",
          "traceback": [
            "\u001b[0;36m  File \u001b[0;32m\"/tmp/ipython-input-1607151797.py\"\u001b[0;36m, line \u001b[0;32m2\u001b[0m\n\u001b[0;31m    tip_percentage = 10%\u001b[0m\n\u001b[0m                        ^\u001b[0m\n\u001b[0;31mSyntaxError\u001b[0m\u001b[0;31m:\u001b[0m invalid syntax\n"
          ]
        }
      ]
    },
    {
      "cell_type": "code",
      "source": [
        "def bill(amount):\n",
        "  if amount > 500 and amount < 1000:\n",
        "    total_amount = (0.15 * amount) + amount\n",
        "  elif amount > 1000:\n",
        "    total_amount = (0.25 * amount) + amount\n",
        "  else:\n",
        "    total_amount = (0.1 * amount) + amount\n",
        "  return total_amount\n",
        "\n",
        "a = int(input(\"Enter the bill amount:\"))\n",
        "total_paid = bill(a)\n",
        "print(f\"The total amount to be paid is: ${total_paid}\")"
      ],
      "metadata": {
        "colab": {
          "base_uri": "https://localhost:8080/"
        },
        "id": "ZhYF7Dci3TYX",
        "outputId": "c5e5fb93-d0da-46b7-9f4b-f9228bb38c65"
      },
      "execution_count": null,
      "outputs": [
        {
          "output_type": "stream",
          "name": "stdout",
          "text": [
            "Enter the bill amount:1240\n",
            "The total amount to be paid is: $1550.0\n"
          ]
        }
      ]
    },
    {
      "cell_type": "code",
      "source": [
        "num_list = [12,4,5,7,8,13,10,19,21]\n",
        "\n",
        "def average_even(numberlist):\n",
        "  even_list = []\n",
        "  for num in numberlist:\n",
        "    if num % 2 == 0:\n",
        "      even_list.append(num)\n",
        "\n",
        "  if even_list:\n",
        "    averageEven = sum(even_list) / len(even_list)\n",
        "    print(\"Even numbers found:\", even_list)\n",
        "    print(\"Average of even numbers:\", averageEven)\n",
        "    return averageEven\n",
        "  else:\n",
        "    print(\"No even numbers found in the list.\")\n",
        "    return\n",
        "\n",
        "average_even(num_list)"
      ],
      "metadata": {
        "colab": {
          "base_uri": "https://localhost:8080/"
        },
        "id": "cco3NhLT8R_i",
        "outputId": "05dedac9-6795-4854-9f9a-3d5ecbe6bde6"
      },
      "execution_count": null,
      "outputs": [
        {
          "output_type": "stream",
          "name": "stdout",
          "text": [
            "Even numbers found: [12, 4, 8, 10]\n",
            "Average of even numbers: 8.5\n"
          ]
        },
        {
          "output_type": "execute_result",
          "data": {
            "text/plain": [
              "8.5"
            ]
          },
          "metadata": {},
          "execution_count": 33
        }
      ]
    },
    {
      "cell_type": "code",
      "source": [
        "def sum_numbers(*args):\n",
        "  print(type(args))\n",
        "  total = 0\n",
        "  for i in args:\n",
        "    total += i\n",
        "  print(total)\n",
        "\n",
        "sum_numbers (7,8,9,4,3)"
      ],
      "metadata": {
        "colab": {
          "base_uri": "https://localhost:8080/"
        },
        "id": "6LRkLmqy_H-u",
        "outputId": "05266e62-916a-4d55-e9c6-c35f0fbf8917"
      },
      "execution_count": null,
      "outputs": [
        {
          "output_type": "stream",
          "name": "stdout",
          "text": [
            "<class 'tuple'>\n",
            "31\n"
          ]
        }
      ]
    },
    {
      "cell_type": "code",
      "source": [
        "def print_info(**args):\n",
        " for item,val in args.items():\n",
        "  print(f\"{item} is {val}\")\n",
        "\n",
        "print_info(name=\"Alan\",Place=\"tvm\", score=6)\n",
        "print_info(name=\"Alan\",place=\"tvm\",Batch=\"DSA\")"
      ],
      "metadata": {
        "colab": {
          "base_uri": "https://localhost:8080/"
        },
        "id": "Xk6lshcqBsFB",
        "outputId": "70827027-257b-454a-8e70-00a05770f0f7"
      },
      "execution_count": null,
      "outputs": [
        {
          "output_type": "stream",
          "name": "stdout",
          "text": [
            "name is Alan\n",
            "Place is tvm\n",
            "score is 6\n",
            "name is Alan\n",
            "place is tvm\n",
            "Batch is DSA\n"
          ]
        }
      ]
    },
    {
      "cell_type": "code",
      "source": [
        "def squire forum(x):\n",
        "  y = x*x\n",
        "  print(y)\n",
        "  squire forum(10)\n",
        "  squire + lambda x:x*x\n",
        "  Squire (5)\n",
        "  Add = lambda x, y: x + y"
      ],
      "metadata": {
        "colab": {
          "base_uri": "https://localhost:8080/",
          "height": 106
        },
        "id": "MWzQaXCVKC7i",
        "outputId": "f0e5fa70-66d4-409b-f151-bd4a09ef47d2"
      },
      "execution_count": null,
      "outputs": [
        {
          "output_type": "error",
          "ename": "SyntaxError",
          "evalue": "expected '(' (ipython-input-951722762.py, line 1)",
          "traceback": [
            "\u001b[0;36m  File \u001b[0;32m\"/tmp/ipython-input-951722762.py\"\u001b[0;36m, line \u001b[0;32m1\u001b[0m\n\u001b[0;31m    def squire forum(x):\u001b[0m\n\u001b[0m               ^\u001b[0m\n\u001b[0;31mSyntaxError\u001b[0m\u001b[0;31m:\u001b[0m expected '('\n"
          ]
        }
      ]
    },
    {
      "cell_type": "code",
      "source": [
        "class Animal:\n",
        "  animal_type = \"Dog\"\n",
        "  num_leg = 4\n",
        "  mammal = \"Yes\"\n",
        "  def sound(self):\n",
        "    print (\"Animal barks\")\n",
        "    Obj1 = Animal()\n",
        "    Obj1.sound()"
      ],
      "metadata": {
        "id": "Yg9qxEKOTTEF"
      },
      "execution_count": null,
      "outputs": []
    },
    {
      "cell_type": "code",
      "source": [
        "class Person:\n",
        "  place = \"tvm\"\n",
        "\n",
        "  def __init__(self, name, age):\n",
        "    self.name = name\n",
        "    self.age = age\n",
        "\n",
        "  def greet(self):\n",
        "    return f\"Hi, myself {self.name} and my age is {self.age} and I am from {self.place}\"\n",
        "\n",
        "obj1 = Person(\"laya\", 25)\n",
        "obj2 = Person(\"Mahesh\", 26)\n",
        "\n",
        "print(obj1.greet())\n",
        "print(obj2.greet())"
      ],
      "metadata": {
        "colab": {
          "base_uri": "https://localhost:8080/"
        },
        "id": "z5FjnDsVXGIp",
        "outputId": "836161d3-8168-4cb9-ca39-2d03cd0b22c1"
      },
      "execution_count": null,
      "outputs": [
        {
          "output_type": "stream",
          "name": "stdout",
          "text": [
            "Hi, myself laya and my age is 25 and I am from tvm\n",
            "Hi, myself Mahesh and my age is 26 and I am from tvm\n"
          ]
        }
      ]
    },
    {
      "cell_type": "code",
      "source": [
        "class Employee:\n",
        "    def __init__(self, name, emp_id, salary):\n",
        "        self.name = name\n",
        "        self.emp_id = emp_id\n",
        "        self.salary = salary\n",
        "\n",
        "    def display_info(self):\n",
        "        print(f\"name: {self.name}\")\n",
        "        print(f\"Employee ID: {self.emp_id}\")\n",
        "        print(f\"Salary: {self.salary}\")\n",
        "\n",
        "\n",
        "class Manager(Employee):\n",
        "    def __init__(self, name, emp_id, salary, dept, teamSize):\n",
        "        super().__init__(name, emp_id, salary)\n",
        "        self.dept = dept\n",
        "        self.teamSize = teamSize\n",
        "\n",
        "    def display_manager_info(self):\n",
        "        self.display_info()\n",
        "        print(f\"Department: {self.dept}\")\n",
        "        print(f\"Team Size: {self.teamSize}\")\n",
        "\n",
        "\n",
        "emp1 = Employee(\"john Doe\", \"12345\", 50000)\n",
        "emp1.display_info()\n",
        "\n",
        "manager1 = Manager(\"Jane smith\", \"67890\", 80000, \"Sales\", 10)\n",
        "manager1.display_manager_info()"
      ],
      "metadata": {
        "colab": {
          "base_uri": "https://localhost:8080/"
        },
        "id": "xgezaxhrZ3Rd",
        "outputId": "7aeb767b-fdf1-40bc-f595-2782e1cc646c"
      },
      "execution_count": null,
      "outputs": [
        {
          "output_type": "stream",
          "name": "stdout",
          "text": [
            "name: john Doe\n",
            "Employee ID: 12345\n",
            "Salary: 50000\n",
            "name: Jane smith\n",
            "Employee ID: 67890\n",
            "Salary: 80000\n",
            "Department: Sales\n",
            "Team Size: 10\n"
          ]
        }
      ]
    },
    {
      "cell_type": "code",
      "source": [
        "readability PEP8 Style\n"
      ],
      "metadata": {
        "colab": {
          "base_uri": "https://localhost:8080/",
          "height": 106
        },
        "id": "4neREZMfRCpE",
        "outputId": "f2647efc-8186-4f9b-c649-4f537aca2236"
      },
      "execution_count": null,
      "outputs": [
        {
          "output_type": "error",
          "ename": "SyntaxError",
          "evalue": "invalid syntax (ipython-input-2848795467.py, line 1)",
          "traceback": [
            "\u001b[0;36m  File \u001b[0;32m\"/tmp/ipython-input-2848795467.py\"\u001b[0;36m, line \u001b[0;32m1\u001b[0m\n\u001b[0;31m    readability PEP8 Style\u001b[0m\n\u001b[0m                ^\u001b[0m\n\u001b[0;31mSyntaxError\u001b[0m\u001b[0;31m:\u001b[0m invalid syntax\n"
          ]
        }
      ]
    }
  ]
}